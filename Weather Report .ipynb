{
 "cells": [
  {
   "cell_type": "markdown",
   "id": "37b7ccea",
   "metadata": {},
   "source": [
    "## Import Library"
   ]
  },
  {
   "cell_type": "code",
   "execution_count": 1,
   "id": "47b9b201",
   "metadata": {},
   "outputs": [],
   "source": [
    "# Firstly import the Library \n",
    "\n",
    "import requests\n",
    "# json  = key value , list "
   ]
  },
  {
   "cell_type": "markdown",
   "id": "47533ebe",
   "metadata": {},
   "source": [
    "## Main Work"
   ]
  },
  {
   "cell_type": "code",
   "execution_count": 5,
   "id": "d0d60721",
   "metadata": {},
   "outputs": [
    {
     "name": "stdout",
     "output_type": "stream",
     "text": [
      "\n",
      "1. Get weather\n",
      "2. Get Wind Speed\n",
      "3. Get Pressure\n",
      "0. Exit\n",
      "Enter your choice: 1\n",
      "Enter the date (YYYY-MM-DD HH:MM:SS): 2019-03-27 18:00:00\n",
      "Temperature on 2019-03-27 18:00:00: 278.76°K\n",
      "Weather description: broken clouds\n",
      "\n",
      "1. Get weather\n",
      "2. Get Wind Speed\n",
      "3. Get Pressure\n",
      "0. Exit\n",
      "Enter your choice: 0\n",
      "Exiting the program.\n"
     ]
    }
   ],
   "source": [
    "#  Write the main function throw fetch the data full json file because json file inside \n",
    "def get_weather_data(api_url):\n",
    "    response = requests.get(api_url)\n",
    "    \n",
    "    # response convert into a json format so we can easly see or then return---\n",
    "    #. the data into the bottom function inside\n",
    "    \n",
    "    return response.json()\n",
    "\n",
    "# Q-1 -------Step first Fetch the _weather Data  , this function take json file and user input_date \n",
    "\n",
    "def get_weather_by_date(weather_data, input_date):\n",
    "# we fetch the list inside {0} zero dict data point every values \n",
    "    for data in weather_data[\"list\"]:\n",
    "        # Then fetch the 0 th dict date time value when this value metch then goto the inside the loop\n",
    "        if input_date in data[\"dt_txt\"]:\n",
    "            # return the output as your requridement\n",
    "            return data[\"main\"][\"temp\"]\n",
    "\n",
    "\n",
    "    return None, None\n",
    "\n",
    "# ---- Q-2 find the wind speed \n",
    "\n",
    "\n",
    "def get_wind_speed_by_date(weather_data, input_date):\n",
    "    for data in weather_data[\"list\"]:\n",
    "        # Macth the date then inside the condition only\n",
    "        if input_date in data[\"dt_txt\"]:\n",
    "            # this is present the inside the {}0 > {}wind > speed is  the key \n",
    "            return data[\"wind\"][\"speed\"]\n",
    "\n",
    "    return None\n",
    "\n",
    "\n",
    "# ----- Q-3 find the pressure -----\n",
    "\n",
    "def get_pressure_by_date(weather_data, input_date):\n",
    "    for data in weather_data[\"list\"]:\n",
    "        if input_date in data[\"dt_txt\"]:\n",
    "            # inside the {}0 >  {}main > pressure is the present as key \n",
    "            return data[\"main\"][\"temp\"], data[\"weather\"][0][\"description\"]\n",
    "\n",
    "    return None\n",
    "\n",
    "def main():\n",
    "    api_url = \"https://samples.openweathermap.org/data/2.5/forecast/hourly?q=London,us&appid=b6907d289e10d714a6e88b30761fae22\"\n",
    "\n",
    "    weather_data = get_weather_data(api_url)\n",
    "\n",
    "    if weather_data:\n",
    "        while True:\n",
    "            print(\"\\n1. Get weather\")\n",
    "            print(\"2. Get Wind Speed\")\n",
    "            print(\"3. Get Pressure\")\n",
    "            print(\"0. Exit\")\n",
    "\n",
    "            choice = input(\"Enter your choice: \")\n",
    "\n",
    "            if choice == \"1\":\n",
    "                input_date = input(\"Enter the date (YYYY-MM-DD HH:MM:SS): \")\n",
    "                temperature = get_weather_by_date(weather_data, input_date)\n",
    "                if temperature:\n",
    "                    print(f\"Temperature on {input_date}: {temperature:.2f}°K\")\n",
    "                    print(f\"Weather description: {weather_description}\")\n",
    "                else:\n",
    "                    print(\"Data not found for the given date.\")\n",
    "            \n",
    "            elif choice == \"2\":\n",
    "                input_date = input(\"Enter the date (YYYY-MM-DD HH:MM:SS): \")\n",
    "                wind_speed = get_wind_speed_by_date(weather_data, input_date)\n",
    "                if wind_speed:\n",
    "                    print(f\"Wind Speed on {input_date}: {wind_speed} m/s\")\n",
    "                else:\n",
    "                    print(\"Data not found for the given date.\")\n",
    "            \n",
    "            elif choice == \"3\":\n",
    "                input_date = input(\"Enter the date (YYYY-MM-DD HH:MM:SS): \")\n",
    "                pressure = get_pressure_by_date(weather_data, input_date)\n",
    "                if pressure:\n",
    "                    print(f\"Pressure on {input_date}: {pressure} hPa\")\n",
    "                else:\n",
    "                    print(\"Data not found for the given date.\")\n",
    "\n",
    "            elif choice == \"0\":\n",
    "                print(\"Exiting the program.\")\n",
    "                break\n",
    "\n",
    "            else:\n",
    "                print(\"Invalid choice. Please try again.\")\n",
    "\n",
    "if __name__ == \"__main__\":main()\n"
   ]
  },
  {
   "cell_type": "code",
   "execution_count": null,
   "id": "d87c1727",
   "metadata": {},
   "outputs": [],
   "source": []
  }
 ],
 "metadata": {
  "kernelspec": {
   "display_name": "Python 3 (ipykernel)",
   "language": "python",
   "name": "python3"
  },
  "language_info": {
   "codemirror_mode": {
    "name": "ipython",
    "version": 3
   },
   "file_extension": ".py",
   "mimetype": "text/x-python",
   "name": "python",
   "nbconvert_exporter": "python",
   "pygments_lexer": "ipython3",
   "version": "3.10.8"
  }
 },
 "nbformat": 4,
 "nbformat_minor": 5
}
